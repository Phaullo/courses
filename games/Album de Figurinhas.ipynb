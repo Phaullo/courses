{
 "cells": [
  {
   "cell_type": "code",
   "execution_count": 9,
   "metadata": {},
   "outputs": [
    {
     "name": "stdout",
     "output_type": "stream",
     "text": [
      "681\n",
      "676\n",
      "[None, None, None, None, None, None, None, None, None, None, None, None, None, None, None, None, None, None, None, None, None, None, None, None, None, None, None, None, None, None, None, None, None, None, None, None, None, None, None, None, None, None, None, None, None, None, None, None, None, None, None, None, None, None, None, None, None, None, None, None, None, None, None, None, None, None, None, None, None, None, None, None, None, None, None, None, None, None, None, None, None, None, None, None, None, None, None, None, None, None, None, None, None, None, None, None, None, None, None, None, <__main__.Figurinha object at 0x000000000598EA20>, None, None, None, None, None, None, None, None, None, None, None, None, None, None, None, None, None, None, None, None, None, <__main__.Figurinha object at 0x000000000598EF60>, None, None, None, None, None, None, None, None, None, None, None, None, None, None, None, None, None, None, None, None, None, None, None, None, None, None, None, None, None, None, None, None, None, None, None, None, None, None, None, None, None, None, None, None, None, None, None, None, None, None, None, None, None, None, None, None, None, None, None, None, None, None, None, None, None, None, None, None, None, None, None, None, None, None, None, None, None, None, None, None, None, None, None, None, None, None, None, None, None, None, None, None, None, None, None, None, None, None, None, None, None, None, None, None, None, None, None, None, None, None, None, None, None, None, None, None, None, None, None, None, None, None, None, None, None, None, None, None, None, <__main__.Figurinha object at 0x000000000598EBE0>, None, None, None, None, None, None, None, None, None, None, None, None, None, None, None, None, None, None, None, None, None, None, None, None, None, None, None, None, None, None, None, None, None, None, None, None, None, None, None, None, None, None, None, None, None, None, None, None, None, None, None, None, None, None, None, None, None, None, None, None, None, None, None, None, None, None, None, None, None, None, None, None, None, None, None, None, None, None, None, None, None, None, None, None, None, None, None, None, None, None, None, None, None, None, None, None, None, None, None, None, None, None, None, None, None, None, None, None, None, None, None, None, None, None, None, None, None, None, None, None, None, None, None, None, None, None, None, None, None, None, None, None, None, None, None, None, None, None, None, None, None, None, None, None, None, None, None, None, None, None, None, None, None, None, None, None, None, None, None, None, None, None, None, None, None, None, None, None, None, None, None, None, None, None, None, None, None, None, None, None, None, None, None, None, None, None, None, None, None, None, None, None, None, None, None, None, None, None, None, None, None, None, None, None, None, None, None, None, None, None, None, None, None, None, None, None, None, None, None, None, None, None, None, None, None, None, None, None, None, None, None, None, None, None, None, None, None, None, None, None, None, None, None, None, None, <__main__.Figurinha object at 0x0000000005BAD6A0>, None, None, None, None, None, None, None, None, None, None, None, None, None, None, None, None, None, None, None, None, None, None, None, None, None, None, None, None, None, None, None, None, None, None, None, None, None, None, None, None, None, None, None, None, None, None, None, None, None, None, None, None, None, None, None, None, None, None, None, None, None, None, None, None, None, None, None, None, None, None, None, None, None, None, None, None, None, None, None, None, None, None, None, None, None, None, None, None, None, None, None, None, None, None, None, None, None, None, None, None, None, None, None, None, None, None, None, None, None, None, None, None, None, None, None, None, None, None, None, None, None, None, <__main__.Figurinha object at 0x0000000005BADB38>, None, None, None, None, None, None, None, None, None, None, None, None, None, None, None, None, None, None, None, None, None, None, None, None, None, None, None, None, None, None, None, None, None, None, None, None, None, None, None, None, None, None, None, None, None, None, None, None, None, None, None, None, None, None, None, None, None, None, None]\n"
     ]
    }
   ],
   "source": [
    "import random\n",
    "\n",
    "class Figurinha:\n",
    "    def __init__(self, numero, nome, qtde):\n",
    "        self.__numero = numero\n",
    "        self.__nome = nome\n",
    "        self.__qtde = qtde\n",
    "    def setNumero(self, num):\n",
    "        self.__numero = num\n",
    "    def getNumero(self):\n",
    "        return self.__numero\n",
    "    def setNome(self, nome):\n",
    "        self.__nome = nome\n",
    "    def getNome(self):\n",
    "        return self.__nome\n",
    "    def getQtde(self):\n",
    "        return self.__qtde\n",
    "    def setQtde(self, qtde):\n",
    "        self.__qtde = qtde\n",
    "\n",
    "class Album:\n",
    "    def __init__(self):\n",
    "        self.figurinhas = [None]*681\n",
    "        \n",
    "    def quantasFaltam(self):\n",
    "        total = 0\n",
    "        for fig in self.figurinhas:\n",
    "            if fig==None:\n",
    "                total+=1\n",
    "        return total\n",
    "    \n",
    "    def colarFigurinha(self, figurinha):\n",
    "        if not self.figurinhas[figurinha.getNumero()-1]:\n",
    "            self.figurinhas[figurinha.getNumero()-1] = figurinha\n",
    "        else:\n",
    "            print(\"Figurinha ja existe!!\")\n",
    "    \n",
    "    def trocarFigurinha(self, de, para):\n",
    "        if de.getQtde()>1:\n",
    "            self.figurinhas[de.getNumero()-1].setQtde(de.getQtde()-1)\n",
    "            self.colarFigurinha(para)\n",
    "    \n",
    "    def comprarFigurinhas(self, pacote):\n",
    "        for fig in pacote:\n",
    "            if not self.figurinhas[fig.getNumero()-1]:\n",
    "                self.colarFigurinha(fig)\n",
    "            else:\n",
    "                self.figurinhas[fig.getNumero()-1].setQtde(fig.getQtde()+1)\n",
    "        \n",
    "album = Album()\n",
    "print(album.quantasFaltam())\n",
    "\n",
    "def gerarPacote(qtde):\n",
    "    pacote = []\n",
    "    for i in range(qtde):\n",
    "        numero = random.randint(1,681)\n",
    "        fig = Figurinha(numero,\"Nome\",1)\n",
    "        pacote.append(fig)\n",
    "    return pacote\n",
    "album.comprarFigurinhas(gerarPacote(5))\n",
    "        \n",
    "print(album.quantasFaltam()) \n",
    "print(album.figurinhas)"
   ]
  }
 ],
 "metadata": {
  "kernelspec": {
   "display_name": "Python 3",
   "language": "python",
   "name": "python3"
  },
  "language_info": {
   "codemirror_mode": {
    "name": "ipython",
    "version": 3
   },
   "file_extension": ".py",
   "mimetype": "text/x-python",
   "name": "python",
   "nbconvert_exporter": "python",
   "pygments_lexer": "ipython3",
   "version": "3.6.3"
  }
 },
 "nbformat": 4,
 "nbformat_minor": 2
}
