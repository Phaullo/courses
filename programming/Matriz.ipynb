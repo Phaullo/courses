{
 "cells": [
  {
   "cell_type": "markdown",
   "metadata": {},
   "source": [
    "# Matrizes"
   ]
  },
  {
   "cell_type": "markdown",
   "metadata": {},
   "source": [
    "## Introdução"
   ]
  },
  {
   "cell_type": "markdown",
   "metadata": {},
   "source": [
    "Matrizes são estruturas largamente utilizadas na computação e em áreas como Estatística. São, basicamente, vetor de duas dimensões, no qual um valor é localizado por dois índices:"
   ]
  },
  {
   "cell_type": "code",
   "execution_count": 7,
   "metadata": {},
   "outputs": [
    {
     "name": "stdout",
     "output_type": "stream",
     "text": [
      "B\n",
      "F\n"
     ]
    }
   ],
   "source": [
    "linha1 = [\"A\", \"B\", \"C\"]\n",
    "linha2 = [\"D\", \"E\", \"F\"]\n",
    "\n",
    "matriz = [linha1, linha2]\n",
    "\n",
    "print(matriz[0][1]) # segundo valor da primeira linha\n",
    "print(matriz[1][2]) # terceiro valor da segunda linha\n"
   ]
  },
  {
   "cell_type": "markdown",
   "metadata": {},
   "source": [
    "Uma matriz pode ser a representação de uma tabela de valores. Veja um exemplo:\n",
    "\n",
    "Vendas de Produtos/Quinzena\n",
    "\n",
    "|       | 1a Quinzena      |  2a Quinzena  | 3a Quinzena |\n",
    "|----------|:-------------:|------:|------:\n",
    "| Prod1 |  100 | 15 | 40 |\n",
    "| Prod2 |    200   |   30 | 80 |\n",
    "| Prod3 | 40 |    120 | 60 |\n"
   ]
  },
  {
   "cell_type": "markdown",
   "metadata": {},
   "source": [
    "A matriz que representa essa tabela é composta por 3 linhas e colunas:\n",
    "\n",
    "```\n",
    "    100     15      40\n",
    "    200     30      80\n",
    "    40     120      60\n",
    "\n",
    "```"
   ]
  },
  {
   "cell_type": "markdown",
   "metadata": {},
   "source": [
    "E em uma linguagem como Python, essa matriz pode ser representada da seguinte forma:"
   ]
  },
  {
   "cell_type": "code",
   "execution_count": 20,
   "metadata": {},
   "outputs": [
    {
     "name": "stdout",
     "output_type": "stream",
     "text": [
      "[[100, 15, 40], [200, 30, 80], [40, 120, 60]]\n"
     ]
    }
   ],
   "source": [
    "vendas = [[100,15,40],[200,30,80],[40,120,60]]"
   ]
  },
  {
   "cell_type": "markdown",
   "metadata": {},
   "source": [
    "## Inicializando uma matriz"
   ]
  },
  {
   "cell_type": "markdown",
   "metadata": {},
   "source": [
    "**Manualmente**"
   ]
  },
  {
   "cell_type": "code",
   "execution_count": 9,
   "metadata": {
    "collapsed": true
   },
   "outputs": [],
   "source": [
    "matriz = [[0,0,0],[0,0,0]]"
   ]
  },
  {
   "cell_type": "markdown",
   "metadata": {},
   "source": [
    "**Usando uma estrutura de repetição**"
   ]
  },
  {
   "cell_type": "code",
   "execution_count": 12,
   "metadata": {},
   "outputs": [
    {
     "name": "stdout",
     "output_type": "stream",
     "text": [
      "[[0, 0, 0], [0, 0, 0], [0, 0, 0]]\n"
     ]
    }
   ],
   "source": [
    "a = [0]*3\n",
    "for i in range(3):\n",
    "    a[i] = [0]*3\n",
    "print(a)"
   ]
  },
  {
   "cell_type": "markdown",
   "metadata": {},
   "source": [
    "## Acessando valores de uma matriz"
   ]
  },
  {
   "cell_type": "markdown",
   "metadata": {},
   "source": [
    "É feita como em um vetor, com a diferença que são necessários dois índices para se acessar uma posição:\n",
    "\n",
    "```\n",
    "A B C\n",
    "D E F\n",
    "G H I\n",
    "\n",
    "```"
   ]
  },
  {
   "cell_type": "markdown",
   "metadata": {},
   "source": [
    "Na matriz acima, o valor F está na segunda linha e terceira coluna. Veja em Python:"
   ]
  },
  {
   "cell_type": "code",
   "execution_count": 13,
   "metadata": {},
   "outputs": [
    {
     "name": "stdout",
     "output_type": "stream",
     "text": [
      "F\n"
     ]
    }
   ],
   "source": [
    "matriz = [[\"A\",\"B\",\"C\"],[\"D\",\"E\",\"F\"],[\"G\",\"H\",\"I\"]]\n",
    "print(matriz[1][2])"
   ]
  },
  {
   "cell_type": "markdown",
   "metadata": {},
   "source": [
    "## Alterando valores de uma matriz"
   ]
  },
  {
   "cell_type": "markdown",
   "metadata": {},
   "source": [
    "A operação de alteração é feita como no vetor, dessa vez com dois índices:"
   ]
  },
  {
   "cell_type": "code",
   "execution_count": 14,
   "metadata": {},
   "outputs": [
    {
     "name": "stdout",
     "output_type": "stream",
     "text": [
      "[['A', 'B', 'C'], ['D', 'E', 'T'], ['G', 'H', 'I']]\n"
     ]
    }
   ],
   "source": [
    "matriz = [[\"A\",\"B\",\"C\"],[\"D\",\"E\",\"F\"],[\"G\",\"H\",\"I\"]]\n",
    "matriz[1][2] = \"T\"\n",
    "\n",
    "# Note que o valor F será trocado pelo T\n",
    "\n",
    "print(matriz)"
   ]
  },
  {
   "cell_type": "markdown",
   "metadata": {},
   "source": [
    "## Exercícios"
   ]
  },
  {
   "cell_type": "markdown",
   "metadata": {},
   "source": [
    "**Ex 1: Crie uma matriz 3x4, todas as posições com o valor 1 **"
   ]
  },
  {
   "cell_type": "code",
   "execution_count": null,
   "metadata": {
    "collapsed": true
   },
   "outputs": [],
   "source": []
  },
  {
   "cell_type": "markdown",
   "metadata": {},
   "source": [
    "** Ex 2: Dada a matriz abaixo, multiplique todos os valores por 2**"
   ]
  },
  {
   "cell_type": "code",
   "execution_count": 17,
   "metadata": {},
   "outputs": [],
   "source": [
    "m = [[1,2,3],[4,3,2],[9,4,3]]\n"
   ]
  },
  {
   "cell_type": "markdown",
   "metadata": {},
   "source": [
    "**Ex 3: Considere a tabela de vendas abaixo. Calcule o total de vendas por produto. **\n",
    "\n",
    "|       | 1a Quinzena      |  2a Quinzena  | 3a Quinzena |\n",
    "|----------|:-------------:|------:|------:\n",
    "| Prod1 |  100 | 15 | 40 |\n",
    "| Prod2 |    200   |   30 | 80 |\n",
    "| Prod3 | 40 |    120 | 60 |"
   ]
  },
  {
   "cell_type": "code",
   "execution_count": null,
   "metadata": {
    "collapsed": true
   },
   "outputs": [],
   "source": []
  }
 ],
 "metadata": {
  "kernelspec": {
   "display_name": "Python 3",
   "language": "python",
   "name": "python3"
  },
  "language_info": {
   "codemirror_mode": {
    "name": "ipython",
    "version": 3
   },
   "file_extension": ".py",
   "mimetype": "text/x-python",
   "name": "python",
   "nbconvert_exporter": "python",
   "pygments_lexer": "ipython3",
   "version": "3.6.1"
  }
 },
 "nbformat": 4,
 "nbformat_minor": 2
}
